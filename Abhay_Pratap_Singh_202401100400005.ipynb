{
  "nbformat": 4,
  "nbformat_minor": 0,
  "metadata": {
    "colab": {
      "provenance": []
    },
    "kernelspec": {
      "name": "python3",
      "display_name": "Python 3"
    },
    "language_info": {
      "name": "python"
    }
  },
  "cells": [
    {
      "cell_type": "code",
      "execution_count": 9,
      "metadata": {
        "id": "JCaIdARbMAnl"
      },
      "outputs": [],
      "source": [
        "import math\n",
        "\n",
        "# Function to print the Tic-Tac-Toe board\n",
        "def print_board(board):\n",
        "    for row in board:\n",
        "        print(\" \".join(row))\n",
        "    print()\n",
        "\n",
        "# Function to check if there are moves left on the board\n",
        "def is_moves_left(board):\n",
        "    return any('_' in row for row in board)"
      ]
    },
    {
      "cell_type": "code",
      "source": [
        "# Function to evaluate the board and return a score\n",
        "def evaluate(board):\n",
        "    for i in range(3):\n",
        "        # Check rows and columns for victory\n",
        "        if board[i][0] == board[i][1] == board[i][2] != '_':\n",
        "            return 10 if board[i][0] == 'X' else -10\n",
        "        if board[0][i] == board[1][i] == board[2][i] != '_':\n",
        "            return 10 if board[0][i] == 'X' else -10\n",
        "\n",
        "    # Check diagonals for victory\n",
        "    if board[0][0] == board[1][1] == board[2][2] != '_':\n",
        "        return 10 if board[0][0] == 'X' else -10\n",
        "    if board[0][2] == board[1][1] == board[2][0] != '_':\n",
        "        return 10 if board[0][2] == 'X' else -10\n",
        "\n",
        "    return 0"
      ],
      "metadata": {
        "id": "Fv-l-7cmSE9g"
      },
      "execution_count": 10,
      "outputs": []
    },
    {
      "cell_type": "code",
      "source": [
        "# Minimax algorithm with Alpha-Beta Pruning\n",
        "def minimax(board, depth, is_max, alpha, beta):\n",
        "    score = evaluate(board)\n",
        "    if score in (10, -10):\n",
        "        return score\n",
        "    if not is_moves_left(board):\n",
        "        return 0\n",
        "\n",
        "    if is_max:\n",
        "        best = -math.inf\n",
        "        for i in range(3):\n",
        "            for j in range(3):\n",
        "                if board[i][j] == '_':\n",
        "                    board[i][j] = 'X'\n",
        "                    best = max(best, minimax(board, depth + 1, False, alpha, beta))\n",
        "                    board[i][j] = '_'\n",
        "                    alpha = max(alpha, best)\n",
        "                    if beta <= alpha:\n",
        "                        break  # Alpha-Beta Pruning\n",
        "        return best\n",
        "    else:\n",
        "        best = math.inf\n",
        "        for i in range(3):\n",
        "            for j in range(3):\n",
        "                if board[i][j] == '_':\n",
        "                    board[i][j] = 'O'\n",
        "                    best = min(best, minimax(board, depth + 1, True, alpha, beta))\n",
        "                    board[i][j] = '_'\n",
        "                    beta = min(beta, best)\n",
        "                    if beta <= alpha:\n",
        "                        break  # Alpha-Beta Pruning\n",
        "        return best"
      ],
      "metadata": {
        "id": "C8zL1FoOSG5_"
      },
      "execution_count": 11,
      "outputs": []
    },
    {
      "cell_type": "code",
      "source": [
        "# Function to find the best move for AI (X)\n",
        "def find_best_move(board):\n",
        "    best_val = -math.inf\n",
        "    best_move = (-1, -1)\n",
        "\n",
        "    for i in range(3):\n",
        "        for j in range(3):\n",
        "            if board[i][j] == '_':\n",
        "                board[i][j] = 'X'\n",
        "                move_val = minimax(board, 0, False, -math.inf, math.inf)\n",
        "                board[i][j] = '_'\n",
        "\n",
        "                if move_val > best_val:\n",
        "                    best_move = (i, j)\n",
        "                    best_val = move_val\n",
        "\n",
        "    return best_move\n"
      ],
      "metadata": {
        "id": "KV8JgkKaSPzF"
      },
      "execution_count": 12,
      "outputs": []
    },
    {
      "cell_type": "code",
      "source": [
        "# Main function to run the Tic-Tac-Toe game\n",
        "def main():\n",
        "    board = [['_', '_', '_'],\n",
        "             ['_', '_', '_'],\n",
        "             ['_', '_', '_']]\n",
        "\n",
        "    print(\"Tic-Tac-Toe with AI using Alpha-Beta Pruning\")\n",
        "    print_board(board)\n",
        "\n",
        "    while is_moves_left(board) and evaluate(board) == 0:\n",
        "        # Get user input for their move\n",
        "        row, col = map(int, input(\"Enter your move (row and column: 0-2 0-2): \").split())\n",
        "        if board[row][col] != '_':\n",
        "            print(\"Invalid move! Try again.\")\n",
        "            continue\n",
        "        board[row][col] = 'O'\n",
        "        # Check if the game is over after player's move\n",
        "        if evaluate(board) != 0 or not is_moves_left(board):\n",
        "            break\n",
        "\n",
        "        # AI makes a move\n",
        "        ai_move = find_best_move(board)\n",
        "        board[ai_move[0]][ai_move[1]] = 'X'\n",
        "\n",
        "        # Print the updated board after AI's move\n",
        "        print_board(board)\n",
        "\n",
        "    # Print final board and declare the result\n",
        "    print_board(board)\n",
        "    score = evaluate(board)\n",
        "    if score == 10:\n",
        "        print(\"AI wins!\")\n",
        "    elif score == -10:\n",
        "        print(\"You win!\")\n",
        "    else:\n",
        "        print(\"It's a draw!\")\n",
        "\n",
        "# Run the game if this script is executed\n",
        "if __name__ == \"__main__\":\n",
        "    main()\n",
        "\n",
        ""
      ],
      "metadata": {
        "colab": {
          "base_uri": "https://localhost:8080/"
        },
        "id": "Eiu_lsXWSWXT",
        "outputId": "9101b355-cce4-4852-ee9a-a7a07a74b207"
      },
      "execution_count": 23,
      "outputs": [
        {
          "output_type": "stream",
          "name": "stdout",
          "text": [
            "Tic-Tac-Toe with AI using Alpha-Beta Pruning\n",
            "_ _ _\n",
            "_ _ _\n",
            "_ _ _\n",
            "\n",
            "Enter your move (row and column: 0-2 0-2): 1 1\n",
            "X _ _\n",
            "_ O _\n",
            "_ _ _\n",
            "\n",
            "Enter your move (row and column: 0-2 0-2): 2 2\n",
            "X _ X\n",
            "_ O _\n",
            "_ _ O\n",
            "\n",
            "Enter your move (row and column: 0-2 0-2): 1 2\n",
            "X X X\n",
            "_ O O\n",
            "_ _ O\n",
            "\n",
            "X X X\n",
            "_ O O\n",
            "_ _ O\n",
            "\n",
            "AI wins!\n"
          ]
        }
      ]
    }
  ]
}